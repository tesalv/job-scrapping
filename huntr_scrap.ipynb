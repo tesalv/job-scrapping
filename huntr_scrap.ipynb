{
 "cells": [
  {
   "cell_type": "code",
   "execution_count": 6,
   "metadata": {},
   "outputs": [],
   "source": [
    "# Libraries\n",
    "import time\n",
    "import pandas as pd    \n",
    "# ------------- # \n",
    "import selenium\n",
    "from selenium import webdriver\n",
    "from selenium.webdriver.common.by import By\n",
    "from selenium.webdriver.support.ui import WebDriverWait\n",
    "from selenium.webdriver.support import expected_conditions as EC\n",
    "from selenium.webdriver.common.keys import Keys\n",
    "from selenium.webdriver.chrome.service import Service\n",
    "# ------------- # \n",
    "from webdriver_manager.chrome import ChromeDriverManager\n",
    "\n",
    "# library for interacting with the operating system\n",
    "import os\n",
    "# ------------- # \n",
    "from bs4 import BeautifulSoup\n",
    "import requests\n",
    "# ------------- # \n",
    "from langdetect import detect\n",
    "# ------------- # \n",
    "import random\n",
    "\n",
    " # ------------- # \n",
    "from datetime import date"
   ]
  },
  {
   "cell_type": "code",
   "execution_count": 7,
   "metadata": {},
   "outputs": [
    {
     "name": "stderr",
     "output_type": "stream",
     "text": [
      "[WDM] - Downloading: 100%|██████████| 6.79M/6.79M [00:00<00:00, 10.5MB/s]\n"
     ]
    }
   ],
   "source": [
    "# installing driver\n",
    "driver = webdriver.Chrome(service=Service(ChromeDriverManager().install()))"
   ]
  },
  {
   "cell_type": "code",
   "execution_count": 8,
   "metadata": {},
   "outputs": [],
   "source": [
    "# Enter to the site\n",
    "driver.get('https://huntr.co/track/boards/638e02981183bc002f3108e1/board')\n",
    "time.sleep(2)"
   ]
  },
  {
   "cell_type": "code",
   "execution_count": 17,
   "metadata": {},
   "outputs": [],
   "source": [
    "jobs_title=[]\n",
    "company=[]"
   ]
  },
  {
   "cell_type": "code",
   "execution_count": 28,
   "metadata": {},
   "outputs": [],
   "source": [
    "# Applied Jobs\n",
    "jobs=driver.find_elements(By.CSS_SELECTOR,\"p[class^='Text__Paragraph-sc-1rtclo2-1 hZBCNR']\")\n",
    "#time.sleep(3)\n",
    "for job in jobs:\n",
    "    jobs_title.append(job.text)\n",
    "#len(jobs)\n",
    "\n",
    "companies=driver.find_elements(By.CSS_SELECTOR,\"p[class^='Text__Paragraph-sc-1rtclo2-1 keImHJ']\")\n",
    "for comp in companies:\n",
    "    company.append(comp.text)"
   ]
  },
  {
   "cell_type": "code",
   "execution_count": 29,
   "metadata": {},
   "outputs": [
    {
     "data": {
      "text/plain": [
       "93"
      ]
     },
     "execution_count": 29,
     "metadata": {},
     "output_type": "execute_result"
    }
   ],
   "source": [
    "len(jobs_title)"
   ]
  },
  {
   "cell_type": "code",
   "execution_count": 30,
   "metadata": {},
   "outputs": [
    {
     "data": {
      "text/plain": [
       "93"
      ]
     },
     "execution_count": 30,
     "metadata": {},
     "output_type": "execute_result"
    }
   ],
   "source": [
    "len(company)"
   ]
  },
  {
   "cell_type": "code",
   "execution_count": 31,
   "metadata": {},
   "outputs": [],
   "source": [
    "df_jobs=pd.DataFrame(list(zip(jobs_title,company)))"
   ]
  },
  {
   "cell_type": "code",
   "execution_count": 32,
   "metadata": {},
   "outputs": [
    {
     "data": {
      "text/html": [
       "<div>\n",
       "<style scoped>\n",
       "    .dataframe tbody tr th:only-of-type {\n",
       "        vertical-align: middle;\n",
       "    }\n",
       "\n",
       "    .dataframe tbody tr th {\n",
       "        vertical-align: top;\n",
       "    }\n",
       "\n",
       "    .dataframe thead th {\n",
       "        text-align: right;\n",
       "    }\n",
       "</style>\n",
       "<table border=\"1\" class=\"dataframe\">\n",
       "  <thead>\n",
       "    <tr style=\"text-align: right;\">\n",
       "      <th></th>\n",
       "      <th>0</th>\n",
       "      <th>1</th>\n",
       "    </tr>\n",
       "  </thead>\n",
       "  <tbody>\n",
       "    <tr>\n",
       "      <th>0</th>\n",
       "      <td>Junior data Engineer</td>\n",
       "      <td>Blend360</td>\n",
       "    </tr>\n",
       "    <tr>\n",
       "      <th>1</th>\n",
       "      <td>Solution Engineer!! start up!!</td>\n",
       "      <td>FRG Technology Consulting</td>\n",
       "    </tr>\n",
       "    <tr>\n",
       "      <th>2</th>\n",
       "      <td>Data Analyst/BI</td>\n",
       "      <td>Aigent</td>\n",
       "    </tr>\n",
       "    <tr>\n",
       "      <th>3</th>\n",
       "      <td>Data Analyst</td>\n",
       "      <td>Canyon Bicycles</td>\n",
       "    </tr>\n",
       "    <tr>\n",
       "      <th>4</th>\n",
       "      <td>Junior Data Analyst</td>\n",
       "      <td>Brightstone</td>\n",
       "    </tr>\n",
       "    <tr>\n",
       "      <th>...</th>\n",
       "      <td>...</td>\n",
       "      <td>...</td>\n",
       "    </tr>\n",
       "    <tr>\n",
       "      <th>88</th>\n",
       "      <td>Junior Data Engineer</td>\n",
       "      <td>Accenture</td>\n",
       "    </tr>\n",
       "    <tr>\n",
       "      <th>89</th>\n",
       "      <td>Data Scientist NLP</td>\n",
       "      <td>bunq</td>\n",
       "    </tr>\n",
       "    <tr>\n",
       "      <th>90</th>\n",
       "      <td>Junior/Intermidate Data Scientist</td>\n",
       "      <td>GRESB</td>\n",
       "    </tr>\n",
       "    <tr>\n",
       "      <th>91</th>\n",
       "      <td>Junior Data Scientist</td>\n",
       "      <td>Dashmote</td>\n",
       "    </tr>\n",
       "    <tr>\n",
       "      <th>92</th>\n",
       "      <td>Junior Data Scientist - Finance &amp; Banking (Ams...</td>\n",
       "      <td>Young Financials</td>\n",
       "    </tr>\n",
       "  </tbody>\n",
       "</table>\n",
       "<p>93 rows × 2 columns</p>\n",
       "</div>"
      ],
      "text/plain": [
       "                                                    0  \\\n",
       "0                                Junior data Engineer   \n",
       "1                      Solution Engineer!! start up!!   \n",
       "2                                     Data Analyst/BI   \n",
       "3                                        Data Analyst   \n",
       "4                                 Junior Data Analyst   \n",
       "..                                                ...   \n",
       "88                               Junior Data Engineer   \n",
       "89                                 Data Scientist NLP   \n",
       "90                  Junior/Intermidate Data Scientist   \n",
       "91                              Junior Data Scientist   \n",
       "92  Junior Data Scientist - Finance & Banking (Ams...   \n",
       "\n",
       "                            1  \n",
       "0                    Blend360  \n",
       "1   FRG Technology Consulting  \n",
       "2                      Aigent  \n",
       "3             Canyon Bicycles  \n",
       "4                 Brightstone  \n",
       "..                        ...  \n",
       "88                  Accenture  \n",
       "89                       bunq  \n",
       "90                      GRESB  \n",
       "91                   Dashmote  \n",
       "92           Young Financials  \n",
       "\n",
       "[93 rows x 2 columns]"
      ]
     },
     "execution_count": 32,
     "metadata": {},
     "output_type": "execute_result"
    }
   ],
   "source": [
    "df_jobs"
   ]
  },
  {
   "cell_type": "code",
   "execution_count": 34,
   "metadata": {},
   "outputs": [],
   "source": [
    "df_jobs.to_excel(\"Hntr_progress.xlsx\",index=False)"
   ]
  },
  {
   "cell_type": "code",
   "execution_count": null,
   "metadata": {},
   "outputs": [],
   "source": []
  }
 ],
 "metadata": {
  "kernelspec": {
   "display_name": "ironhack",
   "language": "python",
   "name": "python3"
  },
  "language_info": {
   "codemirror_mode": {
    "name": "ipython",
    "version": 3
   },
   "file_extension": ".py",
   "mimetype": "text/x-python",
   "name": "python",
   "nbconvert_exporter": "python",
   "pygments_lexer": "ipython3",
   "version": "3.9.13 (main, Aug 25 2022, 23:51:50) [MSC v.1916 64 bit (AMD64)]"
  },
  "orig_nbformat": 4,
  "vscode": {
   "interpreter": {
    "hash": "4a38339ccb09af62c11572ee1f8d8bf4c38a6a8e49e8be3ae680a571cc75115c"
   }
  }
 },
 "nbformat": 4,
 "nbformat_minor": 2
}
