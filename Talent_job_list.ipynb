{
 "cells": [
  {
   "cell_type": "code",
   "execution_count": 30,
   "metadata": {},
   "outputs": [],
   "source": [
    "from bs4 import BeautifulSoup\n",
    "import requests\n",
    "from langdetect import detect\n",
    "import pandas as pd\n",
    "from datetime import date"
   ]
  },
  {
   "cell_type": "code",
   "execution_count": 31,
   "metadata": {},
   "outputs": [],
   "source": [
    "def get_soup(url):\n",
    "    response =  requests.get(url)\n",
    "    response.content\n",
    "    soup = BeautifulSoup(response.content)\n",
    "    return soup"
   ]
  },
  {
   "cell_type": "code",
   "execution_count": 32,
   "metadata": {},
   "outputs": [],
   "source": [
    "def get_titles(soup):\n",
    "    titles = soup.find_all(\"h2\",attrs={\"class\":\"card__job-title\"})\n",
    "    title_list=[title.text.strip() for title in titles]\n",
    "    return title_list\n"
   ]
  },
  {
   "cell_type": "code",
   "execution_count": 33,
   "metadata": {},
   "outputs": [],
   "source": [
    "def get_location(soup):\n",
    "    locations= soup.find_all(\"div\",attrs={\"class\":\"card__job-location\"})\n",
    "\n",
    "    loc_list=[loc.text.strip() for loc in locations]\n",
    "    return loc_list"
   ]
  },
  {
   "cell_type": "code",
   "execution_count": 34,
   "metadata": {},
   "outputs": [],
   "source": [
    "def get_text_lan_page(soup):\n",
    "    snippet= soup.find_all(\"p\",attrs={\"class\":\"card__job-snippet\"})\n",
    "\n",
    "    desc_list=[desc.text.strip() for desc in snippet]\n",
    "    lan_list=[detect(text) for text in desc_list]\n",
    "    page_list=[page for desc in snippet]\n",
    "    return desc_list, lan_list,page_list\n"
   ]
  },
  {
   "cell_type": "code",
   "execution_count": 35,
   "metadata": {},
   "outputs": [],
   "source": [
    "def get_company(soup):\n",
    "    companies= soup.find_all(\"div\",attrs={\"class\":\"card__job-empname-label\"})\n",
    "\n",
    "    comp_list=[comp.text.strip() for comp in companies]\n",
    "    return comp_list"
   ]
  },
  {
   "cell_type": "code",
   "execution_count": 36,
   "metadata": {},
   "outputs": [],
   "source": [
    "## GET THE LINKS\n",
    "def get_link(soup):\n",
    "    div=soup.find_all(\"div\",attrs={\"class\":\"link-job-wrap\"})\n",
    "    links= [\"https://nl.talent.com\"+link.get(\"data-link\") for link in div]\n",
    "    return links"
   ]
  },
  {
   "cell_type": "code",
   "execution_count": 37,
   "metadata": {},
   "outputs": [
    {
     "data": {
      "text/plain": [
       "['1', '2']"
      ]
     },
     "execution_count": 37,
     "metadata": {},
     "output_type": "execute_result"
    }
   ],
   "source": [
    "## CHECK INITIAL PAGE NUMBER\n",
    "page=1\n",
    "url= f\"https://nl.talent.com/jobs?k=%26%2334%3BJunior+data%26%2334%3B&l=amsterdam&date=7d&radius=15&p={page}&context=serp_pagination\"\n",
    "\n",
    "soup=get_soup(url)\n",
    "page_num=soup.find_all(\"span\",attrs={\"class\":\"page-number\"})\n",
    "\n",
    "page_list=[page.text.strip() for page in page_num]\n",
    "page_list"
   ]
  },
  {
   "cell_type": "code",
   "execution_count": 38,
   "metadata": {},
   "outputs": [
    {
     "name": "stdout",
     "output_type": "stream",
     "text": [
      "['2', '3', '4', '5', '6']\n",
      "5\n"
     ]
    }
   ],
   "source": [
    "## CHECK TOTAL NUMBER OF PAGE RESULTS\n",
    "\n",
    "if len(page_list)>1:\n",
    "    page=2\n",
    "    while len(page_list)>=page:\n",
    "    \n",
    "        url= f\"https://nl.talent.com/jobs?k=%26%2334%3BJunior+data%26%2334%3B&l=amsterdam&date=7d&radius=15&p={page}&context=serp_pagination\"\n",
    "        response =  requests.get(url)\n",
    "        response.content\n",
    "        soup = BeautifulSoup(response.content)\n",
    "        page_num=soup.find_all(\"span\",attrs={\"class\":\"page-number\"})\n",
    "\n",
    "        page_list=[page.text.strip() for page in page_num]\n",
    "        #print(page_list)\n",
    "        if len(page_list)>page:\n",
    "            page=page+1\n",
    "            #print('here')\n",
    "        else:\n",
    "            \n",
    "            break\n",
    "    print(page_list)\n",
    "    print(len(page_list))\n",
    "else:\n",
    "    pass"
   ]
  },
  {
   "cell_type": "code",
   "execution_count": 39,
   "metadata": {},
   "outputs": [],
   "source": [
    "title_list=[]\n",
    "loc_list=[]\n",
    "desc_list=[]\n",
    "lan_list=[]\n",
    "page_num_list=[]\n",
    "links_list=[]\n",
    "comp_list=[]\n",
    "for page in page_list:\n",
    "    url= f\"https://nl.talent.com/jobs?k=%26%2334%3BJunior+data%26%2334%3B&l=amsterdam&date=7d&radius=15&p={page}&context=serp_pagination\"\n",
    "    soup=get_soup(url)\n",
    "    \n",
    "    #titles=get_titles(soup)\n",
    "    title_list=title_list + get_titles(soup)\n",
    "    #print(title_list)\n",
    "    loc_list=loc_list+ get_location(soup)\n",
    "    ads , lan, pag = get_text_lan_page(soup)\n",
    "    desc_list=desc_list+ ads\n",
    "    lan_list = lan_list + lan\n",
    "    page_num_list=page_num_list+pag\n",
    "    links_list=links_list+get_link(soup)\n",
    "    comp_list=comp_list+get_company(soup)\n",
    "\n"
   ]
  },
  {
   "cell_type": "code",
   "execution_count": 40,
   "metadata": {},
   "outputs": [
    {
     "name": "stdout",
     "output_type": "stream",
     "text": [
      "129\n",
      "129\n",
      "129\n",
      "129\n",
      "129\n",
      "129\n"
     ]
    }
   ],
   "source": [
    "print(len(title_list))\n",
    "print(len(loc_list))\n",
    "print(len(desc_list))\n",
    "print(len(lan_list))\n",
    "print(len(page_num_list))\n",
    "print(len(links_list))"
   ]
  },
  {
   "cell_type": "code",
   "execution_count": 42,
   "metadata": {},
   "outputs": [
    {
     "data": {
      "text/html": [
       "<div>\n",
       "<style scoped>\n",
       "    .dataframe tbody tr th:only-of-type {\n",
       "        vertical-align: middle;\n",
       "    }\n",
       "\n",
       "    .dataframe tbody tr th {\n",
       "        vertical-align: top;\n",
       "    }\n",
       "\n",
       "    .dataframe thead th {\n",
       "        text-align: right;\n",
       "    }\n",
       "</style>\n",
       "<table border=\"1\" class=\"dataframe\">\n",
       "  <thead>\n",
       "    <tr style=\"text-align: right;\">\n",
       "      <th></th>\n",
       "      <th>job_title</th>\n",
       "      <th>company_name</th>\n",
       "      <th>company_location</th>\n",
       "      <th>job_desc</th>\n",
       "      <th>lan</th>\n",
       "      <th>link</th>\n",
       "    </tr>\n",
       "  </thead>\n",
       "  <tbody>\n",
       "    <tr>\n",
       "      <th>0</th>\n",
       "      <td>Junior Account Manager Breda</td>\n",
       "      <td>Manpower</td>\n",
       "      <td>Amsterdam, Noord-Holland</td>\n",
       "      <td>vandaag nog! Manpower is voor een opdrachtgeve...</td>\n",
       "      <td>nl</td>\n",
       "      <td>https://nl.talent.com/redirect?l=amsterdam&amp;dat...</td>\n",
       "    </tr>\n",
       "    <tr>\n",
       "      <th>1</th>\n",
       "      <td>Junior Accountmanager Binnendienst</td>\n",
       "      <td>Actief Werkt!</td>\n",
       "      <td>Amsterdam, Noord-Holland</td>\n",
       "      <td>Wil jij werken als accountmanager binnendienst...</td>\n",
       "      <td>nl</td>\n",
       "      <td>https://nl.talent.com/redirect?l=amsterdam&amp;dat...</td>\n",
       "    </tr>\n",
       "    <tr>\n",
       "      <th>2</th>\n",
       "      <td>Parttime junior marketeer</td>\n",
       "      <td>Unique</td>\n",
       "      <td>Amsterdam, Noord-Holland</td>\n",
       "      <td>Over de functieBen jij helemaal thuis in de di...</td>\n",
       "      <td>nl</td>\n",
       "      <td>https://nl.talent.com/redirect?l=amsterdam&amp;dat...</td>\n",
       "    </tr>\n",
       "    <tr>\n",
       "      <th>3</th>\n",
       "      <td>Junior manager ARTIS-plein (Ref. 2523)</td>\n",
       "      <td>Vermaat Groep B.V.</td>\n",
       "      <td>Amsterdam, Noord-Holland</td>\n",
       "      <td>Taken en verantwoordelijkhedenHey jonge ondern...</td>\n",
       "      <td>nl</td>\n",
       "      <td>https://nl.talent.com/redirect?l=amsterdam&amp;dat...</td>\n",
       "    </tr>\n",
       "    <tr>\n",
       "      <th>4</th>\n",
       "      <td>JUNIOR ENGINEER</td>\n",
       "      <td>Stedin</td>\n",
       "      <td>Amsterdam, Noord-Holland</td>\n",
       "      <td>We stappen over op elektrische auto's. Wekken ...</td>\n",
       "      <td>nl</td>\n",
       "      <td>https://nl.talent.com/redirect?l=amsterdam&amp;dat...</td>\n",
       "    </tr>\n",
       "    <tr>\n",
       "      <th>...</th>\n",
       "      <td>...</td>\n",
       "      <td>...</td>\n",
       "      <td>...</td>\n",
       "      <td>...</td>\n",
       "      <td>...</td>\n",
       "      <td>...</td>\n",
       "    </tr>\n",
       "    <tr>\n",
       "      <th>124</th>\n",
       "      <td>Junior Sous ChefGeplaatst op: 02-01-2023</td>\n",
       "      <td>Ron Gastrobar Amsterdam</td>\n",
       "      <td>Amsterdam, Noord-Holland</td>\n",
       "      <td>Wat voor jou!Bij Ron Gastrobar in Amsterdam zi...</td>\n",
       "      <td>nl</td>\n",
       "      <td>https://nl.talent.com/redirect?l=amsterdam&amp;dat...</td>\n",
       "    </tr>\n",
       "    <tr>\n",
       "      <th>125</th>\n",
       "      <td>Junior Sous ChefGeplaatst op: 29-11-2022</td>\n",
       "      <td>Ron Gastrobar Oriental Downtown</td>\n",
       "      <td>Amsterdam, Noord-Holland</td>\n",
       "      <td>Wat voor jou!Bij Ron Gastrobar in Amsterdam zi...</td>\n",
       "      <td>nl</td>\n",
       "      <td>https://nl.talent.com/redirect?l=amsterdam&amp;dat...</td>\n",
       "    </tr>\n",
       "    <tr>\n",
       "      <th>126</th>\n",
       "      <td>Data Protection Officer</td>\n",
       "      <td>Exact</td>\n",
       "      <td>Amsterdam, Noord-Holland</td>\n",
       "      <td>Senior Professional Job Delft Corporate Functi...</td>\n",
       "      <td>en</td>\n",
       "      <td>https://nl.talent.com/redirect?l=amsterdam&amp;dat...</td>\n",
       "    </tr>\n",
       "    <tr>\n",
       "      <th>127</th>\n",
       "      <td>BI (business intelligence) / data specialist</td>\n",
       "      <td>ARQ Nationaal Psychotrauma Centrum</td>\n",
       "      <td>Diemen, Noord-Holland</td>\n",
       "      <td>Wat ga je doen?Als BI (business intelligence)....</td>\n",
       "      <td>nl</td>\n",
       "      <td>https://nl.talent.com/redirect?l=amsterdam&amp;dat...</td>\n",
       "    </tr>\n",
       "    <tr>\n",
       "      <th>128</th>\n",
       "      <td>Junior Compensations &amp; Benefits Specialist</td>\n",
       "      <td>HMSHost</td>\n",
       "      <td>Schiphol, Noord-Holland</td>\n",
       "      <td>Wat ga je doen als Junior Compensation &amp; Benef...</td>\n",
       "      <td>nl</td>\n",
       "      <td>https://nl.talent.com/redirect?l=amsterdam&amp;dat...</td>\n",
       "    </tr>\n",
       "  </tbody>\n",
       "</table>\n",
       "<p>129 rows × 6 columns</p>\n",
       "</div>"
      ],
      "text/plain": [
       "                                        job_title  \\\n",
       "0                    Junior Account Manager Breda   \n",
       "1              Junior Accountmanager Binnendienst   \n",
       "2                       Parttime junior marketeer   \n",
       "3          Junior manager ARTIS-plein (Ref. 2523)   \n",
       "4                                 JUNIOR ENGINEER   \n",
       "..                                            ...   \n",
       "124      Junior Sous ChefGeplaatst op: 02-01-2023   \n",
       "125      Junior Sous ChefGeplaatst op: 29-11-2022   \n",
       "126                       Data Protection Officer   \n",
       "127  BI (business intelligence) / data specialist   \n",
       "128    Junior Compensations & Benefits Specialist   \n",
       "\n",
       "                           company_name          company_location  \\\n",
       "0                              Manpower  Amsterdam, Noord-Holland   \n",
       "1                         Actief Werkt!  Amsterdam, Noord-Holland   \n",
       "2                                Unique  Amsterdam, Noord-Holland   \n",
       "3                    Vermaat Groep B.V.  Amsterdam, Noord-Holland   \n",
       "4                                Stedin  Amsterdam, Noord-Holland   \n",
       "..                                  ...                       ...   \n",
       "124             Ron Gastrobar Amsterdam  Amsterdam, Noord-Holland   \n",
       "125     Ron Gastrobar Oriental Downtown  Amsterdam, Noord-Holland   \n",
       "126                               Exact  Amsterdam, Noord-Holland   \n",
       "127  ARQ Nationaal Psychotrauma Centrum     Diemen, Noord-Holland   \n",
       "128                             HMSHost   Schiphol, Noord-Holland   \n",
       "\n",
       "                                              job_desc lan  \\\n",
       "0    vandaag nog! Manpower is voor een opdrachtgeve...  nl   \n",
       "1    Wil jij werken als accountmanager binnendienst...  nl   \n",
       "2    Over de functieBen jij helemaal thuis in de di...  nl   \n",
       "3    Taken en verantwoordelijkhedenHey jonge ondern...  nl   \n",
       "4    We stappen over op elektrische auto's. Wekken ...  nl   \n",
       "..                                                 ...  ..   \n",
       "124  Wat voor jou!Bij Ron Gastrobar in Amsterdam zi...  nl   \n",
       "125  Wat voor jou!Bij Ron Gastrobar in Amsterdam zi...  nl   \n",
       "126  Senior Professional Job Delft Corporate Functi...  en   \n",
       "127  Wat ga je doen?Als BI (business intelligence)....  nl   \n",
       "128  Wat ga je doen als Junior Compensation & Benef...  nl   \n",
       "\n",
       "                                                  link  \n",
       "0    https://nl.talent.com/redirect?l=amsterdam&dat...  \n",
       "1    https://nl.talent.com/redirect?l=amsterdam&dat...  \n",
       "2    https://nl.talent.com/redirect?l=amsterdam&dat...  \n",
       "3    https://nl.talent.com/redirect?l=amsterdam&dat...  \n",
       "4    https://nl.talent.com/redirect?l=amsterdam&dat...  \n",
       "..                                                 ...  \n",
       "124  https://nl.talent.com/redirect?l=amsterdam&dat...  \n",
       "125  https://nl.talent.com/redirect?l=amsterdam&dat...  \n",
       "126  https://nl.talent.com/redirect?l=amsterdam&dat...  \n",
       "127  https://nl.talent.com/redirect?l=amsterdam&dat...  \n",
       "128  https://nl.talent.com/redirect?l=amsterdam&dat...  \n",
       "\n",
       "[129 rows x 6 columns]"
      ]
     },
     "execution_count": 42,
     "metadata": {},
     "output_type": "execute_result"
    }
   ],
   "source": [
    "## CREATE DATAFRAME\n",
    "\n",
    "df_jobs=pd.DataFrame(list(zip(title_list,comp_list,loc_list,desc_list,lan_list,links_list)), columns =['job_title', 'company_name','company_location','job_desc','lan','link'])\n",
    "\n",
    "df_jobs"
   ]
  },
  {
   "cell_type": "code",
   "execution_count": 43,
   "metadata": {},
   "outputs": [],
   "source": [
    "# EXPORT DATAFRAME TO EXCEL\n",
    "date=date.today()\n",
    "filename=f\"Excel_files/talent_juniordata_{date}.xlsx\"\n",
    "df_jobs.to_excel(filename,index=False)"
   ]
  },
  {
   "cell_type": "code",
   "execution_count": null,
   "metadata": {},
   "outputs": [],
   "source": [
    "#filtered_df=df_jobs[(~df_jobs[\"Title\"].str.contains(\"senior|Senior\"))& (df_jobs[\"Lan\"]==\"en\")]"
   ]
  },
  {
   "cell_type": "code",
   "execution_count": null,
   "metadata": {},
   "outputs": [],
   "source": [
    "# filename_filter=f\"Excel_files/FILTERED_talent_juniordata_{date}.xlsx\"\n",
    "# filtered_df.to_excel(filename_filter,index=False)\n"
   ]
  },
  {
   "cell_type": "code",
   "execution_count": null,
   "metadata": {},
   "outputs": [],
   "source": []
  }
 ],
 "metadata": {
  "kernelspec": {
   "display_name": "ironhack",
   "language": "python",
   "name": "python3"
  },
  "language_info": {
   "codemirror_mode": {
    "name": "ipython",
    "version": 3
   },
   "file_extension": ".py",
   "mimetype": "text/x-python",
   "name": "python",
   "nbconvert_exporter": "python",
   "pygments_lexer": "ipython3",
   "version": "3.9.13 (main, Aug 25 2022, 23:51:50) [MSC v.1916 64 bit (AMD64)]"
  },
  "orig_nbformat": 4,
  "vscode": {
   "interpreter": {
    "hash": "4a38339ccb09af62c11572ee1f8d8bf4c38a6a8e49e8be3ae680a571cc75115c"
   }
  }
 },
 "nbformat": 4,
 "nbformat_minor": 2
}
