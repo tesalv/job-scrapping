{
 "cells": [
  {
   "cell_type": "code",
   "execution_count": 39,
   "metadata": {},
   "outputs": [],
   "source": [
    "# this is the library that we will use to create break times in order to mimic human behaviour \n",
    "import time\n",
    "\n",
    "# this library will be used for getting your credentials but keeping them hidden in the script \n",
    "from getpass import getpass\n",
    "\n",
    "# these are the Classes we will use for interaction with a webpage\n",
    "from selenium import webdriver\n",
    "from selenium.webdriver.common.keys import Keys\n",
    "from selenium.webdriver.common.by import By\n",
    "from selenium.webdriver.chrome.service import Service\n",
    "from webdriver_manager.chrome import ChromeDriverManager\n",
    "\n",
    "# beauttiful soup\n",
    "from bs4 import BeautifulSoup\n",
    "\n",
    "# library for interacting with the operating system\n",
    "import os\n",
    "\n",
    "# you know pandas it's your best buddy \n",
    "import pandas as pd\n",
    "\n",
    "import random\n",
    "\n",
    " # ------------- # \n",
    "from datetime import date\n",
    "\n",
    "from langdetect import detect"
   ]
  },
  {
   "cell_type": "code",
   "execution_count": 40,
   "metadata": {},
   "outputs": [],
   "source": [
    "# installing driver\n",
    "driver = webdriver.Chrome(service=Service(ChromeDriverManager().install()))\n",
    "# opening wesite\n",
    "driver.get(\"https://www.monsterboard.nl/vacatures/zoeken?q=%22junior+data%22&where=Amsterdam%2C+Noord-Holland&page=1&recency=last+2+weeks&so=m.h.s\")"
   ]
  },
  {
   "cell_type": "code",
   "execution_count": 41,
   "metadata": {},
   "outputs": [],
   "source": [
    "#accept cookies\n",
    "driver.find_element(By.XPATH,'''//*[@id=\"onetrust-accept-btn-handler\"]''').click()"
   ]
  },
  {
   "cell_type": "code",
   "execution_count": 42,
   "metadata": {},
   "outputs": [],
   "source": [
    "driver.execute_script(\"window.scrollTo(0, document.body.scrollHeight/4);\")"
   ]
  },
  {
   "cell_type": "code",
   "execution_count": 43,
   "metadata": {},
   "outputs": [],
   "source": [
    "##close first box\n",
    "\n",
    "driver.find_element(By.XPATH,'''//*[@id=\"JobCardGrid\"]/div[1]/form/div[1]/span''').click()"
   ]
  },
  {
   "cell_type": "code",
   "execution_count": 44,
   "metadata": {},
   "outputs": [],
   "source": [
    "# driver.execute_script(\"window.scrollTo(0, document.body.scrollHeight);\")"
   ]
  },
  {
   "cell_type": "code",
   "execution_count": 46,
   "metadata": {},
   "outputs": [],
   "source": [
    "### go to the end of the page in order for all the elements to be loaded\n",
    "\n",
    "\n",
    "element = driver.find_element(By.XPATH, '''//*[@id=\"JobCardGrid\"]/div[15]/button''')\n",
    "element.location_once_scrolled_into_view\n",
    "time.sleep(3)\n"
   ]
  },
  {
   "cell_type": "code",
   "execution_count": 47,
   "metadata": {},
   "outputs": [
    {
     "data": {
      "text/plain": [
       "['Data Scientist',\n",
       " 'Data analist',\n",
       " 'Data engineer',\n",
       " 'Data Scientist',\n",
       " 'Junior Data Analist',\n",
       " 'Junior Data Engineer',\n",
       " '6180 Junior Data Engineer Bios CJ',\n",
       " 'Data Consultant',\n",
       " 'Data engineer',\n",
       " 'Data analist',\n",
       " 'Medior Data Scientist',\n",
       " 'Junior Data Consultant',\n",
       " 'Data Consultant']"
      ]
     },
     "execution_count": 47,
     "metadata": {},
     "output_type": "execute_result"
    }
   ],
   "source": [
    "## get job title\n",
    "\n",
    "job_list=driver.find_elements(By.CSS_SELECTOR,\"a[data-test-id^='svx-job-title']\")\n",
    "job_titles=[job.text for job in job_list]\n",
    "job_titles"
   ]
  },
  {
   "cell_type": "code",
   "execution_count": 48,
   "metadata": {},
   "outputs": [
    {
     "data": {
      "text/plain": [
       "['BrightStone Group',\n",
       " 'BrightStone Group',\n",
       " 'BrightStone Group',\n",
       " 'BrightStone Group',\n",
       " 'BrightStone Group',\n",
       " 'Yacht',\n",
       " 'Magno IT Recruitment',\n",
       " 'BrightStone Group',\n",
       " 'BrightStone Group',\n",
       " 'BrightStone Group',\n",
       " 'BrightStone Group',\n",
       " 'BrightStone Group',\n",
       " 'BrightStone Group']"
      ]
     },
     "execution_count": 48,
     "metadata": {},
     "output_type": "execute_result"
    }
   ],
   "source": [
    "## get company\n",
    "\n",
    "company_list=driver.find_elements(By.CSS_SELECTOR,\"h3[data-test-id^='svx-job-company']\")\n",
    "job_company=[comp.text for comp in company_list]\n",
    "job_company\n",
    "#company_list"
   ]
  },
  {
   "cell_type": "code",
   "execution_count": 49,
   "metadata": {},
   "outputs": [
    {
     "data": {
      "text/plain": [
       "['Amsterdam, NH',\n",
       " 'Amsterdam, NH',\n",
       " 'Utrecht, UT',\n",
       " 'Utrecht, UT',\n",
       " 'Utrecht, UT',\n",
       " 'Amsterdam, Nederland, NH',\n",
       " 'Amsterdam, North Holland',\n",
       " 'Amsterdam, NH',\n",
       " 'Amsterdam, NH',\n",
       " 'Utrecht, UT',\n",
       " 'Utrecht, UT',\n",
       " 'Utrecht, UT',\n",
       " 'Utrecht, UT']"
      ]
     },
     "execution_count": 49,
     "metadata": {},
     "output_type": "execute_result"
    }
   ],
   "source": [
    "## get location\n",
    "\n",
    "location_list=driver.find_elements(By.CSS_SELECTOR,\"p[data-test-id^=svx-job-location]\")\n",
    "job_location=[loc.text for loc in location_list]\n",
    "job_location"
   ]
  },
  {
   "cell_type": "code",
   "execution_count": 50,
   "metadata": {},
   "outputs": [
    {
     "data": {
      "text/plain": [
       "['https://www.monsterboard.nl/banen/data-scientist-amsterdam-07--792ba4a4-1914-44c5-9a7a-3e6d0873acab?sid=9feaab99-0306-460e-8d32-46425e7188a2&jvo=m.k.sc.1&so=m.h.s&hidesmr=1&promoted=KEVEL',\n",
       " 'https://www.monsterboard.nl/banen/data-analist-amsterdam-07--14dc815e-169f-4cc2-ae60-876e9d6d8bb0?sid=9feaab99-0306-460e-8d32-46425e7188a2&jvo=m.k.sc.2&so=m.h.s&hidesmr=1&promoted=KEVEL',\n",
       " 'https://www.monsterboard.nl/banen/data-engineer-utrecht-09--fd896396-4d3a-4be3-a318-05d6e79e808e?sid=9feaab99-0306-460e-8d32-46425e7188a2&jvo=m.k.sc.3&so=m.h.s&hidesmr=1&promoted=KEVEL',\n",
       " 'https://www.monsterboard.nl/banen/data-scientist-utrecht-09--5a94269f-dc30-4f13-965f-36447d543556?sid=9feaab99-0306-460e-8d32-46425e7188a2&jvo=m.k.sc.4&so=m.h.s&hidesmr=1&promoted=KEVEL',\n",
       " 'https://www.monsterboard.nl/banen/junior-data-analist-utrecht-09--196d72e2-775c-48e2-8ab9-e8dad3e82583?sid=9feaab99-0306-460e-8d32-46425e7188a2&jvo=m.k.sc.5&so=m.h.s&hidesmr=1&promoted=KEVEL',\n",
       " 'https://www.monsterboard.nl/banen/junior-data-engineer--c2c36794-fa59-4bf8-87fe-1e3a335dbec3?sid=9feaab99-0306-460e-8d32-46425e7188a2&jvo=m.k.sc.6&so=m.h.s&hidesmr=1&promoted=KEVEL',\n",
       " 'https://www.monsterboard.nl/banen/6180-junior-data-engineer-bios-cj-amsterdam-07--b14f1a0c-be06-444d-a822-2c7a0f60bcb1?sid=9feaab99-0306-460e-8d32-46425e7188a2&jvo=m.go.sc.7&so=m.h.s&hidesmr=1',\n",
       " 'https://www.monsterboard.nl/banen/data-consultant-amsterdam-07--b50cd44c-0391-4026-94ac-120656a94bc8?sid=9feaab99-0306-460e-8d32-46425e7188a2&jvo=m.go.sc.8&so=m.h.s&hidesmr=1',\n",
       " 'https://www.monsterboard.nl/banen/data-engineer-amsterdam-07--dc78b693-d319-4c67-8bd4-f7a2b7fea597?sid=9feaab99-0306-460e-8d32-46425e7188a2&jvo=m.go.sc.9&so=m.h.s&hidesmr=1',\n",
       " 'https://www.monsterboard.nl/banen/data-analist-utrecht-09--ba10844a-a26a-4004-b1f3-1ff343a9d5b4?sid=9feaab99-0306-460e-8d32-46425e7188a2&jvo=m.go.sc.10&so=m.h.s&hidesmr=1',\n",
       " 'https://www.monsterboard.nl/banen/medior-data-scientist-utrecht-09--a76a78fc-aa4f-466a-a44e-8c42f0aa1bb1?sid=9feaab99-0306-460e-8d32-46425e7188a2&jvo=m.go.sc.11&so=m.h.s&hidesmr=1',\n",
       " 'https://www.monsterboard.nl/banen/junior-data-consultant-utrecht-09--c7059690-2a95-42e9-9e68-15ef142e9f20?sid=9feaab99-0306-460e-8d32-46425e7188a2&jvo=m.go.sc.12&so=m.h.s&hidesmr=1',\n",
       " 'https://www.monsterboard.nl/banen/data-consultant-utrecht-09--95bad850-72eb-428d-b629-1723f20d6c5d?sid=9feaab99-0306-460e-8d32-46425e7188a2&jvo=m.go.sc.13&so=m.h.s&hidesmr=1']"
      ]
     },
     "execution_count": 50,
     "metadata": {},
     "output_type": "execute_result"
    }
   ],
   "source": [
    "## get the job posts links\n",
    "link_list=driver.find_elements(By.CSS_SELECTOR,\"a[class^='job-cardstyle__JobCardTitle-sc-1mbmxes-2 iQztVR']\")\n",
    "job_link=[link.get_attribute('href') for link in link_list]\n",
    "job_link"
   ]
  },
  {
   "cell_type": "code",
   "execution_count": 51,
   "metadata": {},
   "outputs": [
    {
     "name": "stdout",
     "output_type": "stream",
     "text": [
      "13\n",
      "13\n",
      "13\n",
      "13\n"
     ]
    }
   ],
   "source": [
    "print(len(job_company))\n",
    "print(len(job_titles))\n",
    "print(len(job_location))\n",
    "print(len(job_link))"
   ]
  },
  {
   "cell_type": "code",
   "execution_count": 52,
   "metadata": {},
   "outputs": [
    {
     "name": "stdout",
     "output_type": "stream",
     "text": [
      "0\n",
      "1\n",
      "2\n",
      "3\n",
      "4\n",
      "5\n",
      "6\n",
      "7\n",
      "8\n",
      "9\n",
      "10\n",
      "11\n",
      "12\n"
     ]
    }
   ],
   "source": [
    "## go to each link and extract first paragraph\n",
    "text=[]\n",
    "for i in range(len(job_link)):\n",
    "    try:\n",
    "        print(i)\n",
    "        driver.get(job_link[i])\n",
    "        i=i+1\n",
    "        time.sleep(random.randint(1,3))\n",
    "        parag=driver.find_element(By.TAG_NAME,'p')\n",
    "        #parag=driver.find_element(By.XPATH,'''//*[@id=\"jobview-container\"]/div[1]/div/div[2]/div/div/p[1]''')\n",
    "        text.append(parag.text)\n",
    "        # # Click See more.\n",
    "        # driver.find_element(By.CLASS_NAME,\"artdeco-card__actions\").click()\n",
    "        # time.sleep(2)\n",
    "        # except:\n",
    "        #     pass\n",
    "    except:\n",
    "          text.append(\"n/a\")\n",
    "          pass\n"
   ]
  },
  {
   "cell_type": "code",
   "execution_count": 53,
   "metadata": {},
   "outputs": [],
   "source": [
    "lan_list=[detect(par) for par in text]"
   ]
  },
  {
   "cell_type": "code",
   "execution_count": 54,
   "metadata": {},
   "outputs": [],
   "source": [
    "# Creating the dataframe \n",
    "df = pd.DataFrame(list(zip(job_titles,job_company,\n",
    "                    job_location, text,lan_list,job_link)),\n",
    "                    columns =['job_title', 'company_name',\n",
    "                           'company_location','job_desc','lan','link'])"
   ]
  },
  {
   "cell_type": "code",
   "execution_count": 55,
   "metadata": {},
   "outputs": [
    {
     "data": {
      "text/html": [
       "<div>\n",
       "<style scoped>\n",
       "    .dataframe tbody tr th:only-of-type {\n",
       "        vertical-align: middle;\n",
       "    }\n",
       "\n",
       "    .dataframe tbody tr th {\n",
       "        vertical-align: top;\n",
       "    }\n",
       "\n",
       "    .dataframe thead th {\n",
       "        text-align: right;\n",
       "    }\n",
       "</style>\n",
       "<table border=\"1\" class=\"dataframe\">\n",
       "  <thead>\n",
       "    <tr style=\"text-align: right;\">\n",
       "      <th></th>\n",
       "      <th>job_title</th>\n",
       "      <th>company_name</th>\n",
       "      <th>company_location</th>\n",
       "      <th>job_desc</th>\n",
       "      <th>lan</th>\n",
       "      <th>link</th>\n",
       "    </tr>\n",
       "  </thead>\n",
       "  <tbody>\n",
       "    <tr>\n",
       "      <th>0</th>\n",
       "      <td>Data Scientist</td>\n",
       "      <td>BrightStone Group</td>\n",
       "      <td>Amsterdam, NH</td>\n",
       "      <td>Krijg vacatures zoals deze in je Inbox!</td>\n",
       "      <td>nl</td>\n",
       "      <td>https://www.monsterboard.nl/banen/data-scienti...</td>\n",
       "    </tr>\n",
       "    <tr>\n",
       "      <th>1</th>\n",
       "      <td>Data analist</td>\n",
       "      <td>BrightStone Group</td>\n",
       "      <td>Amsterdam, NH</td>\n",
       "      <td>Krijg vacatures zoals deze in je Inbox!</td>\n",
       "      <td>nl</td>\n",
       "      <td>https://www.monsterboard.nl/banen/data-analist...</td>\n",
       "    </tr>\n",
       "    <tr>\n",
       "      <th>2</th>\n",
       "      <td>Data engineer</td>\n",
       "      <td>BrightStone Group</td>\n",
       "      <td>Utrecht, UT</td>\n",
       "      <td>Krijg vacatures zoals deze in je Inbox!</td>\n",
       "      <td>nl</td>\n",
       "      <td>https://www.monsterboard.nl/banen/data-enginee...</td>\n",
       "    </tr>\n",
       "    <tr>\n",
       "      <th>3</th>\n",
       "      <td>Data Scientist</td>\n",
       "      <td>BrightStone Group</td>\n",
       "      <td>Utrecht, UT</td>\n",
       "      <td>Krijg vacatures zoals deze in je Inbox!</td>\n",
       "      <td>nl</td>\n",
       "      <td>https://www.monsterboard.nl/banen/data-scienti...</td>\n",
       "    </tr>\n",
       "    <tr>\n",
       "      <th>4</th>\n",
       "      <td>Junior Data Analist</td>\n",
       "      <td>BrightStone Group</td>\n",
       "      <td>Utrecht, UT</td>\n",
       "      <td>Krijg vacatures zoals deze in je Inbox!</td>\n",
       "      <td>nl</td>\n",
       "      <td>https://www.monsterboard.nl/banen/junior-data-...</td>\n",
       "    </tr>\n",
       "    <tr>\n",
       "      <th>5</th>\n",
       "      <td>Junior Data Engineer</td>\n",
       "      <td>Yacht</td>\n",
       "      <td>Amsterdam, Nederland, NH</td>\n",
       "      <td>Krijg vacatures zoals deze in je Inbox!</td>\n",
       "      <td>nl</td>\n",
       "      <td>https://www.monsterboard.nl/banen/junior-data-...</td>\n",
       "    </tr>\n",
       "    <tr>\n",
       "      <th>6</th>\n",
       "      <td>6180 Junior Data Engineer Bios CJ</td>\n",
       "      <td>Magno IT Recruitment</td>\n",
       "      <td>Amsterdam, North Holland</td>\n",
       "      <td>Krijg vacatures zoals deze in je Inbox!</td>\n",
       "      <td>nl</td>\n",
       "      <td>https://www.monsterboard.nl/banen/6180-junior-...</td>\n",
       "    </tr>\n",
       "    <tr>\n",
       "      <th>7</th>\n",
       "      <td>Data Consultant</td>\n",
       "      <td>BrightStone Group</td>\n",
       "      <td>Amsterdam, NH</td>\n",
       "      <td>Krijg vacatures zoals deze in je Inbox!</td>\n",
       "      <td>nl</td>\n",
       "      <td>https://www.monsterboard.nl/banen/data-consult...</td>\n",
       "    </tr>\n",
       "    <tr>\n",
       "      <th>8</th>\n",
       "      <td>Data engineer</td>\n",
       "      <td>BrightStone Group</td>\n",
       "      <td>Amsterdam, NH</td>\n",
       "      <td>Krijg vacatures zoals deze in je Inbox!</td>\n",
       "      <td>nl</td>\n",
       "      <td>https://www.monsterboard.nl/banen/data-enginee...</td>\n",
       "    </tr>\n",
       "    <tr>\n",
       "      <th>9</th>\n",
       "      <td>Data analist</td>\n",
       "      <td>BrightStone Group</td>\n",
       "      <td>Utrecht, UT</td>\n",
       "      <td>Krijg vacatures zoals deze in je Inbox!</td>\n",
       "      <td>nl</td>\n",
       "      <td>https://www.monsterboard.nl/banen/data-analist...</td>\n",
       "    </tr>\n",
       "    <tr>\n",
       "      <th>10</th>\n",
       "      <td>Medior Data Scientist</td>\n",
       "      <td>BrightStone Group</td>\n",
       "      <td>Utrecht, UT</td>\n",
       "      <td>Krijg vacatures zoals deze in je Inbox!</td>\n",
       "      <td>nl</td>\n",
       "      <td>https://www.monsterboard.nl/banen/medior-data-...</td>\n",
       "    </tr>\n",
       "    <tr>\n",
       "      <th>11</th>\n",
       "      <td>Junior Data Consultant</td>\n",
       "      <td>BrightStone Group</td>\n",
       "      <td>Utrecht, UT</td>\n",
       "      <td>Krijg vacatures zoals deze in je Inbox!</td>\n",
       "      <td>nl</td>\n",
       "      <td>https://www.monsterboard.nl/banen/junior-data-...</td>\n",
       "    </tr>\n",
       "    <tr>\n",
       "      <th>12</th>\n",
       "      <td>Data Consultant</td>\n",
       "      <td>BrightStone Group</td>\n",
       "      <td>Utrecht, UT</td>\n",
       "      <td>Krijg vacatures zoals deze in je Inbox!</td>\n",
       "      <td>nl</td>\n",
       "      <td>https://www.monsterboard.nl/banen/data-consult...</td>\n",
       "    </tr>\n",
       "  </tbody>\n",
       "</table>\n",
       "</div>"
      ],
      "text/plain": [
       "                            job_title          company_name  \\\n",
       "0                      Data Scientist     BrightStone Group   \n",
       "1                        Data analist     BrightStone Group   \n",
       "2                       Data engineer     BrightStone Group   \n",
       "3                      Data Scientist     BrightStone Group   \n",
       "4                 Junior Data Analist     BrightStone Group   \n",
       "5                Junior Data Engineer                 Yacht   \n",
       "6   6180 Junior Data Engineer Bios CJ  Magno IT Recruitment   \n",
       "7                     Data Consultant     BrightStone Group   \n",
       "8                       Data engineer     BrightStone Group   \n",
       "9                        Data analist     BrightStone Group   \n",
       "10              Medior Data Scientist     BrightStone Group   \n",
       "11             Junior Data Consultant     BrightStone Group   \n",
       "12                    Data Consultant     BrightStone Group   \n",
       "\n",
       "            company_location                                 job_desc lan  \\\n",
       "0              Amsterdam, NH  Krijg vacatures zoals deze in je Inbox!  nl   \n",
       "1              Amsterdam, NH  Krijg vacatures zoals deze in je Inbox!  nl   \n",
       "2                Utrecht, UT  Krijg vacatures zoals deze in je Inbox!  nl   \n",
       "3                Utrecht, UT  Krijg vacatures zoals deze in je Inbox!  nl   \n",
       "4                Utrecht, UT  Krijg vacatures zoals deze in je Inbox!  nl   \n",
       "5   Amsterdam, Nederland, NH  Krijg vacatures zoals deze in je Inbox!  nl   \n",
       "6   Amsterdam, North Holland  Krijg vacatures zoals deze in je Inbox!  nl   \n",
       "7              Amsterdam, NH  Krijg vacatures zoals deze in je Inbox!  nl   \n",
       "8              Amsterdam, NH  Krijg vacatures zoals deze in je Inbox!  nl   \n",
       "9                Utrecht, UT  Krijg vacatures zoals deze in je Inbox!  nl   \n",
       "10               Utrecht, UT  Krijg vacatures zoals deze in je Inbox!  nl   \n",
       "11               Utrecht, UT  Krijg vacatures zoals deze in je Inbox!  nl   \n",
       "12               Utrecht, UT  Krijg vacatures zoals deze in je Inbox!  nl   \n",
       "\n",
       "                                                 link  \n",
       "0   https://www.monsterboard.nl/banen/data-scienti...  \n",
       "1   https://www.monsterboard.nl/banen/data-analist...  \n",
       "2   https://www.monsterboard.nl/banen/data-enginee...  \n",
       "3   https://www.monsterboard.nl/banen/data-scienti...  \n",
       "4   https://www.monsterboard.nl/banen/junior-data-...  \n",
       "5   https://www.monsterboard.nl/banen/junior-data-...  \n",
       "6   https://www.monsterboard.nl/banen/6180-junior-...  \n",
       "7   https://www.monsterboard.nl/banen/data-consult...  \n",
       "8   https://www.monsterboard.nl/banen/data-enginee...  \n",
       "9   https://www.monsterboard.nl/banen/data-analist...  \n",
       "10  https://www.monsterboard.nl/banen/medior-data-...  \n",
       "11  https://www.monsterboard.nl/banen/junior-data-...  \n",
       "12  https://www.monsterboard.nl/banen/data-consult...  "
      ]
     },
     "execution_count": 55,
     "metadata": {},
     "output_type": "execute_result"
    }
   ],
   "source": [
    "df"
   ]
  },
  {
   "cell_type": "code",
   "execution_count": 56,
   "metadata": {},
   "outputs": [],
   "source": [
    "# EXPORT DATAFRAME TO EXCEL\n",
    "date=date.today()\n",
    "filename=f\"Excel_files/MonsterBoard_juniordata_{date}.xlsx\"\n",
    "df.to_excel(filename,index=False)"
   ]
  },
  {
   "cell_type": "code",
   "execution_count": null,
   "metadata": {},
   "outputs": [],
   "source": []
  }
 ],
 "metadata": {
  "kernelspec": {
   "display_name": "ironhack",
   "language": "python",
   "name": "python3"
  },
  "language_info": {
   "codemirror_mode": {
    "name": "ipython",
    "version": 3
   },
   "file_extension": ".py",
   "mimetype": "text/x-python",
   "name": "python",
   "nbconvert_exporter": "python",
   "pygments_lexer": "ipython3",
   "version": "3.9.13 (main, Aug 25 2022, 23:51:50) [MSC v.1916 64 bit (AMD64)]"
  },
  "orig_nbformat": 4,
  "vscode": {
   "interpreter": {
    "hash": "4a38339ccb09af62c11572ee1f8d8bf4c38a6a8e49e8be3ae680a571cc75115c"
   }
  }
 },
 "nbformat": 4,
 "nbformat_minor": 2
}
